{
 "cells": [
  {
   "cell_type": "markdown",
   "id": "166845dd",
   "metadata": {},
   "source": [
    "# Data Science Tools and Ecosystem\n"
   ]
  },
  {
   "cell_type": "markdown",
   "id": "39d2c388",
   "metadata": {},
   "source": [
    "### Introduction\n",
    "In this notebook, Data Science Tools and Ecosystem are summarized."
   ]
  },
  {
   "cell_type": "markdown",
   "id": "121038ac",
   "metadata": {},
   "source": [
    "**Objectives:**\n",
    "- Introduction to data science\n",
    "- Tools used in data science\n",
    "- Hands with tools\n",
    "\n"
   ]
  },
  {
   "cell_type": "markdown",
   "id": "f60918cb",
   "metadata": {},
   "source": [
    "### Overview\n",
    "Some of the popular languages that Data Scientists use are:\n",
    "1. C++\n",
    "2. Python\n",
    "3. R\n"
   ]
  },
  {
   "cell_type": "markdown",
   "id": "01626b43",
   "metadata": {},
   "source": [
    "### Data Science Libraries\n",
    "Some of the commonly used libraries used by Data Scientists include:\n",
    "1. Numpy\n",
    "2. MatPlot\n",
    "3. Pandas\n"
   ]
  },
  {
   "cell_type": "markdown",
   "id": "b972b8f6",
   "metadata": {},
   "source": [
    "|Data Science Tools|\n",
    "-------------------------\n",
    "|R Studio|\n",
    "|Jupyter Notebook|\n",
    "|Visual Studio Code|\n"
   ]
  },
  {
   "cell_type": "code",
   "execution_count": null,
   "id": "3344c108",
   "metadata": {},
   "outputs": [],
   "source": []
  },
  {
   "cell_type": "markdown",
   "id": "4b6fd05c",
   "metadata": {},
   "source": [
    "### Below are a few examples of evaluating arithmetic expressions in Python"
   ]
  },
  {
   "cell_type": "code",
   "execution_count": 1,
   "id": "ec78ed45",
   "metadata": {},
   "outputs": [
    {
     "data": {
      "text/plain": [
       "17"
      ]
     },
     "execution_count": 1,
     "metadata": {},
     "output_type": "execute_result"
    }
   ],
   "source": [
    "#This isa simple arithmetic expression to multiply then add integer\n",
    "(3*4)+5\n"
   ]
  },
  {
   "cell_type": "code",
   "execution_count": 2,
   "id": "4c7ef05f",
   "metadata": {},
   "outputs": [
    {
     "data": {
      "text/plain": [
       "3.3333333333333335"
      ]
     },
     "execution_count": 2,
     "metadata": {},
     "output_type": "execute_result"
    }
   ],
   "source": [
    "#This will convert 200 minutes to hours by dividing by 60\n",
    "200/60"
   ]
  },
  {
   "cell_type": "markdown",
   "id": "a87738b3",
   "metadata": {},
   "source": [
    "## Author\n",
    "Abdullah Miraj"
   ]
  }
 ],
 "metadata": {
  "kernelspec": {
   "display_name": "Python 3 (ipykernel)",
   "language": "python",
   "name": "python3"
  },
  "language_info": {
   "codemirror_mode": {
    "name": "ipython",
    "version": 3
   },
   "file_extension": ".py",
   "mimetype": "text/x-python",
   "name": "python",
   "nbconvert_exporter": "python",
   "pygments_lexer": "ipython3",
   "version": "3.10.9"
  }
 },
 "nbformat": 4,
 "nbformat_minor": 5
}
